{
 "cells": [
  {
   "cell_type": "code",
   "execution_count": null,
   "metadata": {
    "_cell_guid": "b1076dfc-b9ad-4769-8c92-a6c4dae69d19",
    "_uuid": "8f2839f25d086af736a60e9eeb907d3b93b6e0e5"
   },
   "outputs": [],
   "source": [
    "import pandas as pd\n",
    "import numpy as np\n",
    "import seaborn as sns\n",
    "import matplotlib.pyplot as plt\n",
    "\n",
    "import os\n",
    "print(os.listdir(\"../input\"))"
   ]
  },
  {
   "cell_type": "markdown",
   "metadata": {},
   "source": [
    "**Data Wrangling**"
   ]
  },
  {
   "cell_type": "markdown",
   "metadata": {},
   "source": [
    "ETL (Extract Transform Load)"
   ]
  },
  {
   "cell_type": "code",
   "execution_count": null,
   "metadata": {},
   "outputs": [],
   "source": [
    "train = pd.read_csv('../input/bike-share-demand/train.csv')\n",
    "test = pd.read_csv('../input/bike-share-demand/test.csv')\n",
    "train_data = train.copy()\n",
    "test_data = test.copy()"
   ]
  },
  {
   "cell_type": "code",
   "execution_count": null,
   "metadata": {},
   "outputs": [],
   "source": [
    "print(train_data.shape)\n",
    "print(test_data.shape)"
   ]
  },
  {
   "cell_type": "code",
   "execution_count": null,
   "metadata": {},
   "outputs": [],
   "source": [
    "train_data.head()"
   ]
  },
  {
   "cell_type": "code",
   "execution_count": null,
   "metadata": {},
   "outputs": [],
   "source": [
    "train.describe()"
   ]
  },
  {
   "cell_type": "code",
   "execution_count": null,
   "metadata": {},
   "outputs": [],
   "source": [
    "train.isna().sum()\n"
   ]
  },
  {
   "cell_type": "code",
   "execution_count": null,
   "metadata": {},
   "outputs": [],
   "source": [
    "train.info()"
   ]
  },
  {
   "cell_type": "markdown",
   "metadata": {},
   "source": [
    "Some visualization correlating each variable related to variable target 'cnt'"
   ]
  },
  {
   "cell_type": "code",
   "execution_count": null,
   "metadata": {},
   "outputs": [],
   "source": [
    "fig,(ax1,ax2,ax3,ax4) = plt.subplots(ncols=4)\n",
    "fig.set_size_inches(12, 5)\n",
    "sns.regplot(x=\"temp\", y=\"cnt\", data=train_data,ax=ax1)\n",
    "sns.regplot(x=\"atemp\", y=\"cnt\", data=train_data,ax=ax2)\n",
    "sns.regplot(x=\"windspeed\", y=\"cnt\", data=train_data,ax=ax3)\n",
    "sns.regplot(x=\"humidity\", y=\"cnt\", data=train_data,ax=ax4)"
   ]
  },
  {
   "cell_type": "code",
   "execution_count": null,
   "metadata": {},
   "outputs": [],
   "source": [
    "cor= train[:].corr()\n",
    "corval = np.array(cor)\n",
    "corval[np.tril_indices_from(corval)] = False\n",
    "fig=plt.gcf()\n",
    "fig.set_size_inches(30,12)\n",
    "sns.heatmap(data=cor,mask=corval,square=True,annot=True,cbar=True)"
   ]
  },
  {
   "cell_type": "markdown",
   "metadata": {},
   "source": [
    "Reshaping Data"
   ]
  },
  {
   "cell_type": "code",
   "execution_count": null,
   "metadata": {},
   "outputs": [],
   "source": [
    "train_data['datetime'] = pd.to_datetime(train_data['datetime'])\n",
    "train_data['weekday'] = train_data['datetime'].dt.weekday_name\n",
    "train_data['year'] = train_data['datetime'].dt.year.astype(str)\n",
    "train_data['hour'] = train_data['datetime'].dt.hour\n",
    "train_data['month'] = train_data['datetime'].dt.month\n",
    "test_data['datetime'] = pd.to_datetime(test_data['datetime'])\n",
    "test_data['weekday'] = test_data['datetime'].dt.weekday_name\n",
    "test_data['year'] = test_data['datetime'].dt.year.astype(str)\n",
    "test_data['hour'] = test_data['datetime'].dt.hour\n",
    "test_data['month'] = test_data['datetime'].dt.month"
   ]
  },
  {
   "cell_type": "code",
   "execution_count": null,
   "metadata": {},
   "outputs": [],
   "source": [
    "train_data.columns"
   ]
  },
  {
   "cell_type": "code",
   "execution_count": null,
   "metadata": {},
   "outputs": [],
   "source": [
    "sns.factorplot(x=\"hour\",y=\"cnt\",data=train_data,kind='bar',size=5,aspect=1.5)"
   ]
  },
  {
   "cell_type": "markdown",
   "metadata": {},
   "source": [
    "+Feature hour_group"
   ]
  },
  {
   "cell_type": "code",
   "execution_count": null,
   "metadata": {},
   "outputs": [],
   "source": [
    "def hour_group(s):\n",
    "    if((0<=s) & (s<=6)):\n",
    "        return 1\n",
    "    elif((s==7) | (s==9)):\n",
    "        return 2\n",
    "    elif((s==8) | (s==16) | (s==19)):\n",
    "        return 5\n",
    "    elif((10<=s) & (s<=15)):\n",
    "        return 4\n",
    "    elif((s==17) | (s==18)):\n",
    "        return 6\n",
    "    elif(20<=s):\n",
    "        return 3\n",
    "train_data['hour_group'] = train_data['hour'].apply(hour_group).astype(str)\n",
    "test_data['hour_group'] = test_data['hour'].apply(hour_group).astype(str)"
   ]
  },
  {
   "cell_type": "code",
   "execution_count": null,
   "metadata": {},
   "outputs": [],
   "source": [
    "sns.factorplot(x=\"weekday\",y='cnt',kind='bar',data=train_data,size=7,aspect=1)"
   ]
  },
  {
   "cell_type": "code",
   "execution_count": null,
   "metadata": {},
   "outputs": [],
   "source": [
    "sns.factorplot(x=\"month\",y=\"cnt\",data=train_data,kind='bar',size=5,aspect=1.5)"
   ]
  },
  {
   "cell_type": "code",
   "execution_count": null,
   "metadata": {},
   "outputs": [],
   "source": [
    "sns.factorplot(x=\"year\",y=\"cnt\",data=train_data,kind='bar',size=5,aspect=1.5)"
   ]
  },
  {
   "cell_type": "markdown",
   "metadata": {},
   "source": [
    "change data type to String"
   ]
  },
  {
   "cell_type": "code",
   "execution_count": null,
   "metadata": {},
   "outputs": [],
   "source": [
    "train_data['season'] = train_data['season'].astype(str)\n",
    "test_data['season'] = test_data['season'].astype(str)\n",
    "train_data['weather'] = train_data['weather'].astype(str)\n",
    "test_data['weather'] = test_data['weather'].astype(str)\n",
    "train_data['holiday'] = train_data['holiday'].astype(str)\n",
    "test_data['holiday'] = test_data['holiday'].astype(str)\n",
    "train_data['workingday'] = train_data['workingday'].astype(str)\n",
    "test_data['workingday'] = test_data['workingday'].astype(str)"
   ]
  },
  {
   "cell_type": "markdown",
   "metadata": {},
   "source": [
    "Transform to dummy variables"
   ]
  },
  {
   "cell_type": "code",
   "execution_count": null,
   "metadata": {},
   "outputs": [],
   "source": [
    "train_data = pd.get_dummies(train_data)\n",
    "test_data = pd.get_dummies(test_data)"
   ]
  },
  {
   "cell_type": "code",
   "execution_count": null,
   "metadata": {},
   "outputs": [],
   "source": [
    "train_data.head()"
   ]
  },
  {
   "cell_type": "markdown",
   "metadata": {},
   "source": [
    "**Manually splitting data and Dropping columns**"
   ]
  },
  {
   "cell_type": "code",
   "execution_count": null,
   "metadata": {},
   "outputs": [],
   "source": [
    "x_train = train_data.copy()\n",
    "del x_train['casual'], x_train['registered'], x_train['cnt'], x_train['datetime'], x_train['windspeed']\n",
    "x_test = test_data.copy()\n",
    "del x_test['datetime'], x_test['windspeed']\n",
    "y_train = train_data['cnt']\n",
    "y_test = test_data.copy()\n",
    "y_test = pd.concat([test_data,train_data['cnt']], axis=1)\n",
    "y_test = y_test.dropna(axis=0)\n",
    "y_test = y_test['cnt']\n"
   ]
  },
  {
   "cell_type": "markdown",
   "metadata": {},
   "source": [
    "**Scaling Variable**"
   ]
  },
  {
   "cell_type": "code",
   "execution_count": null,
   "metadata": {},
   "outputs": [],
   "source": [
    "from sklearn.preprocessing import MinMaxScaler\n",
    "scaler = MinMaxScaler()\n",
    "x_train = scaler.fit_transform(x_train)\n",
    "x_test = scaler.fit_transform(x_test)\n",
    "y_train = np.log1p(y_train)\n",
    "y_test = np.log1p(y_test)"
   ]
  },
  {
   "cell_type": "markdown",
   "metadata": {},
   "source": [
    "**Modelling and Evaluation**"
   ]
  },
  {
   "cell_type": "code",
   "execution_count": null,
   "metadata": {},
   "outputs": [],
   "source": [
    "from sklearn.ensemble import RandomForestRegressor\n",
    "model = RandomForestRegressor(n_estimators=1000,min_samples_leaf=2,\n",
    "                              random_state=0, n_jobs=-1)\n",
    "model.fit(x_train, y_train)\n",
    "pred = model.predict(x_test)\n",
    "pred = np.expm1(pred)\n",
    "pred = np.round(pred)"
   ]
  },
  {
   "cell_type": "code",
   "execution_count": null,
   "metadata": {},
   "outputs": [],
   "source": [
    "from sklearn.metrics import mean_squared_log_error \n",
    "rmsle = np.sqrt(mean_squared_log_error(pred,y_test))\n",
    "rmsle/10"
   ]
  },
  {
   "cell_type": "code",
   "execution_count": null,
   "metadata": {},
   "outputs": [],
   "source": [
    "from sklearn.ensemble import BaggingRegressor\n",
    "model2 = BaggingRegressor(n_estimators=1000, random_state =0)\n",
    "model2.fit(x_train,y_train)\n",
    "pred2 = model2.predict(x_test)\n",
    "pred2 = np.expm1(pred2)\n",
    "pred2 = np.round(pred2)\n",
    "rmsle2 = np.sqrt(mean_squared_log_error(pred2,y_test))\n",
    "rmsle2/10"
   ]
  },
  {
   "cell_type": "code",
   "execution_count": null,
   "metadata": {},
   "outputs": [],
   "source": [
    "from sklearn import ensemble\n",
    "model3 = ensemble.GradientBoostingRegressor(max_features=10,learning_rate=0.01,\n",
    "                                            n_estimators=1000,subsample=0.7,random_state=0)\n",
    "model3.fit(x_train,y_train)\n",
    "pred3 = model3.predict(x_test)\n",
    "pred3 = np.expm1(pred3)\n",
    "pred3 = np.round(pred3)\n",
    "rmsle3 = np.sqrt(mean_squared_log_error(pred3,y_test))\n",
    "rmsle3/10"
   ]
  },
  {
   "cell_type": "code",
   "execution_count": null,
   "metadata": {},
   "outputs": [],
   "source": [
    "model_names=['RandomForestRegressor','BaggingRegressor','GradientBoostingRegressor']\n",
    "RSMLE=[rmsle,rmsle2,rmsle3]\n",
    "d={'Modelling Algo':model_names,'RMSLE':RSMLE}   \n",
    "rmsle_frame=pd.DataFrame(d)\n",
    "rmsle_frame"
   ]
  },
  {
   "cell_type": "code",
   "execution_count": null,
   "metadata": {},
   "outputs": [],
   "source": [
    "sns.factorplot(y='Modelling Algo',x='RMSLE',data=rmsle_frame,kind='bar',size=5,aspect=2)"
   ]
  },
  {
   "cell_type": "markdown",
   "metadata": {},
   "source": [
    "**Submittion**"
   ]
  },
  {
   "cell_type": "code",
   "execution_count": null,
   "metadata": {},
   "outputs": [],
   "source": [
    "output1 = pd.DataFrame({'datetime': test_data.datetime,\n",
    "                       'count': pred})\n",
    "output1.to_csv('submission.csv', index=False)"
   ]
  },
  {
   "cell_type": "code",
   "execution_count": null,
   "metadata": {},
   "outputs": [],
   "source": [
    "output2 = pd.DataFrame({'datetime': test_data.datetime,\n",
    "                       'count': pred2})\n",
    "output2.to_csv('submission2.csv', index=False)"
   ]
  },
  {
   "cell_type": "code",
   "execution_count": null,
   "metadata": {},
   "outputs": [],
   "source": [
    "output3 = pd.DataFrame({'datetime': test_data.datetime,\n",
    "                       'count': pred3})\n",
    "output3.to_csv('submission3.csv', index=False)"
   ]
  }
 ],
 "metadata": {
  "kernelspec": {
   "display_name": "Python 2",
   "language": "python",
   "name": "python2"
  },
  "language_info": {
   "codemirror_mode": {
    "name": "ipython",
    "version": 2
   },
   "file_extension": ".py",
   "mimetype": "text/x-python",
   "name": "python",
   "nbconvert_exporter": "python",
   "pygments_lexer": "ipython2",
   "version": "2.7.12"
  }
 },
 "nbformat": 4,
 "nbformat_minor": 2
}
